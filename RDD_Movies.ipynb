{
  "nbformat": 4,
  "nbformat_minor": 0,
  "metadata": {
    "colab": {
      "provenance": [],
      "include_colab_link": true
    },
    "kernelspec": {
      "name": "python3",
      "display_name": "Python 3"
    },
    "language_info": {
      "name": "python"
    }
  },
  "cells": [
    {
      "cell_type": "markdown",
      "metadata": {
        "id": "view-in-github",
        "colab_type": "text"
      },
      "source": [
        "<a href=\"https://colab.research.google.com/github/shacharki/AweSimonSays/blob/main/RDD_Movies.ipynb\" target=\"_parent\"><img src=\"https://colab.research.google.com/assets/colab-badge.svg\" alt=\"Open In Colab\"/></a>"
      ]
    },
    {
      "cell_type": "code",
      "execution_count": 1,
      "metadata": {
        "colab": {
          "base_uri": "https://localhost:8080/"
        },
        "id": "JDt7AAa45fwM",
        "outputId": "c649d365-70ea-4603-9356-707c1205716b"
      },
      "outputs": [
        {
          "output_type": "stream",
          "name": "stdout",
          "text": [
            "Collecting pyspark\n",
            "  Downloading pyspark-3.5.1.tar.gz (317.0 MB)\n",
            "\u001b[2K     \u001b[90m━━━━━━━━━━━━━━━━━━━━━━━━━━━━━━━━━━━━━━━━\u001b[0m \u001b[32m317.0/317.0 MB\u001b[0m \u001b[31m1.9 MB/s\u001b[0m eta \u001b[36m0:00:00\u001b[0m\n",
            "\u001b[?25h  Preparing metadata (setup.py) ... \u001b[?25l\u001b[?25hdone\n",
            "Requirement already satisfied: py4j==0.10.9.7 in /usr/local/lib/python3.10/dist-packages (from pyspark) (0.10.9.7)\n",
            "Building wheels for collected packages: pyspark\n",
            "  Building wheel for pyspark (setup.py) ... \u001b[?25l\u001b[?25hdone\n",
            "  Created wheel for pyspark: filename=pyspark-3.5.1-py2.py3-none-any.whl size=317488491 sha256=a3a22d81f9dceeb9f2c7facdba1e38ba368d5b022d63dac26fb1a0060a2c9619\n",
            "  Stored in directory: /root/.cache/pip/wheels/80/1d/60/2c256ed38dddce2fdd93be545214a63e02fbd8d74fb0b7f3a6\n",
            "Successfully built pyspark\n",
            "Installing collected packages: pyspark\n",
            "Successfully installed pyspark-3.5.1\n"
          ]
        }
      ],
      "source": [
        "!pip install pyspark"
      ]
    },
    {
      "cell_type": "code",
      "source": [
        "from pyspark.sql import SparkSession\n",
        "from pyspark.sql import Row\n",
        "from pyspark.sql import functions"
      ],
      "metadata": {
        "id": "ZYFNY4LR5sVv"
      },
      "execution_count": 2,
      "outputs": []
    },
    {
      "cell_type": "code",
      "source": [
        "#פונקציה שלוקחת מהקובץ וממפה את הסרט והשם השם שלו בתוך מילון\n",
        "#קי היד של הסרטים ווליו שם הסרט\n",
        "def load_movie_names():\n",
        "  movie_names = {}\n",
        "  with open(\"u.item\",encoding='ISO-8859-1') as file:\n",
        "    for line in file:\n",
        "      fields = line.split('|')\n",
        "      movie_names[int(fields[0])] = fields[1]\n",
        "  return movie_names"
      ],
      "metadata": {
        "id": "IkJaKOg653Sq"
      },
      "execution_count": 3,
      "outputs": []
    },
    {
      "cell_type": "code",
      "source": [
        "def parse_input(line):\n",
        "  fields = line.split()\n",
        "  #המרת כל שורה לטאפל של 2 ערכים\n",
        "  return (int(fields[1]),(int(fields[2]),1))"
      ],
      "metadata": {
        "id": "i-ASxMfz7TxW"
      },
      "execution_count": 4,
      "outputs": []
    },
    {
      "cell_type": "code",
      "source": [
        "#למצוא את הסרטים עם הדירוג הכי נמוך והכי גבוהה\n",
        "#ושיש להם לפחות 10 דירוגים\n",
        "if __name__ == \"__main__\":\n",
        "  spark = SparkSession.builder.appName(\"MovieLens\").getOrCreate()\n",
        "  #יצירת מילון ביחס לשם והיד שלו\n",
        "  movie_names = load_movie_names()\n",
        "  #קבלת הדאטה של הרדד\n",
        "  lines = spark.sparkContext.textFile(\"u.data\")\n",
        "  print(lines.take(10))\n",
        "  #מיפוי כל שורה\n",
        "  #הפיכת הרדד למבנה של קי ווליו\n",
        "  movies = lines.map(parse_input)\n",
        "  print(movies.take(10))\n",
        "  #רדד של קי ווליו שנוכל להפעיל מתודות שלא ניתן לעשות על רדד רגיל\n",
        "  #רדיוס בי קי לפי היד של הסרט\n",
        "  #סכימת הדירוג לפי כמות הצבעות\n",
        "  ratingTotal = movies.reduceByKey(lambda movie1,movie2: (movie1[0]+movie2[0], movie1[1] + movie2[1]))\n",
        "  #[יד של הסרט, (כמות מצטברת של דירוג ההצבעות, כמות אנשים שהצביעו)]\n",
        "  print(ratingTotal.take(10))\n",
        "  #ניקח רק את הסרטים שיש להם מעל 10 דירוגים\n",
        "  real_movies = ratingTotal.filter(lambda movie: movie[1][1] > 10)\n",
        "  #כדי לעשות ממוצע נעשה כמות מצטברת של הציון חלקי כמות הצבעות\n",
        "  averagerating = real_movies.mapValues(lambda movie: movie[0]/movie[1])\n",
        "  print(averagerating.take(10))\n",
        "  #הגענו לממוצע מצד ימין ניקח את ה10 הנמוכים ביותר\n",
        "\n",
        "  sorted_movies = averagerating.sortBy(lambda movie: movie[1], ascending=False)\n",
        "  #קיבלנו יד של סרט וממצוע של הדירוגים\n",
        "  #\n",
        "  print(sorted_movies.take(10))\n",
        "  for res in sorted_movies.take(10):\n",
        "    print(movie_names[res[0]], res[1])\n",
        "\n",
        "  #מס מילים בקובץ נשתמש ברדד רגיל ומשהו מסובך כמו פה נעדיף דאטה פריים של רדד\n",
        "  #אם נעבוד עם דאטה של טבלה של נתונים נעדיף דאטה פריים\n",
        "  #קובץ כגון ספר שנרצה לספור מילים אז רדד רגיל"
      ],
      "metadata": {
        "colab": {
          "base_uri": "https://localhost:8080/"
        },
        "id": "B4fidL1t76NY",
        "outputId": "d5f59d43-2767-49bb-a327-35af36457f6e"
      },
      "execution_count": 10,
      "outputs": [
        {
          "output_type": "stream",
          "name": "stdout",
          "text": [
            "['196\\t242\\t3\\t881250949', '186\\t302\\t3\\t891717742', '22\\t377\\t1\\t878887116', '244\\t51\\t2\\t880606923', '166\\t346\\t1\\t886397596', '298\\t474\\t4\\t884182806', '115\\t265\\t2\\t881171488', '253\\t465\\t5\\t891628467', '305\\t451\\t3\\t886324817', '6\\t86\\t3\\t883603013']\n",
            "[(242, (3, 1)), (302, (3, 1)), (377, (1, 1)), (51, (2, 1)), (346, (1, 1)), (474, (4, 1)), (265, (2, 1)), (465, (5, 1)), (451, (3, 1)), (86, (3, 1))]\n",
            "[(242, (467, 117)), (302, (1236, 297)), (346, (459, 126)), (474, (825, 194)), (86, (591, 150)), (1014, (300, 98)), (222, (1336, 365)), (40, (165, 57)), (274, (665, 190)), (1042, (88, 28))]\n",
            "[(242, 3.9914529914529915), (302, 4.161616161616162), (346, 3.642857142857143), (474, 4.252577319587629), (86, 3.94), (1014, 3.061224489795918), (222, 3.66027397260274), (40, 2.8947368421052633), (274, 3.5), (1042, 3.142857142857143)]\n",
            "[(408, 4.491071428571429), (318, 4.466442953020135), (169, 4.466101694915254), (483, 4.45679012345679), (114, 4.447761194029851), (64, 4.445229681978798), (603, 4.3875598086124405), (12, 4.385767790262173), (50, 4.3584905660377355), (178, 4.344)]\n",
            "Close Shave, A (1995) 4.491071428571429\n",
            "Schindler's List (1993) 4.466442953020135\n",
            "Wrong Trousers, The (1993) 4.466101694915254\n",
            "Casablanca (1942) 4.45679012345679\n",
            "Wallace & Gromit: The Best of Aardman Animation (1996) 4.447761194029851\n",
            "Shawshank Redemption, The (1994) 4.445229681978798\n",
            "Rear Window (1954) 4.3875598086124405\n",
            "Usual Suspects, The (1995) 4.385767790262173\n",
            "Star Wars (1977) 4.3584905660377355\n",
            "12 Angry Men (1957) 4.344\n"
          ]
        }
      ]
    }
  ]
}